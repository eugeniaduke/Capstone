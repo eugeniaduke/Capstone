{
 "cells": [
  {
   "cell_type": "code",
   "execution_count": null,
   "id": "3c364a13",
   "metadata": {},
   "outputs": [],
   "source": [
    "import pandas as pd\n",
    "\n",
    "pd.set_option('display.max_columns', None)  #show all columns when displaying dataframe\n",
    "pd.set_option('display.max_rows', None)  #show all rows when displaying dataframe\n",
    "\n",
    "climatechange = pd.read_csv('../capstone/climate_change_dataset.csv')  #Use relative path to your csv file\n",
    "#climatechange = df.head()  # first look at dataset\n",
    "climatechange\n",
    "\n"
   ]
  },
  {
   "cell_type": "code",
   "execution_count": 11,
   "id": "1f08124f",
   "metadata": {},
   "outputs": [
    {
     "data": {
      "text/html": [
       "<div>\n",
       "<style scoped>\n",
       "    .dataframe tbody tr th:only-of-type {\n",
       "        vertical-align: middle;\n",
       "    }\n",
       "\n",
       "    .dataframe tbody tr th {\n",
       "        vertical-align: top;\n",
       "    }\n",
       "\n",
       "    .dataframe thead th {\n",
       "        text-align: right;\n",
       "    }\n",
       "</style>\n",
       "<table border=\"1\" class=\"dataframe\">\n",
       "  <thead>\n",
       "    <tr style=\"text-align: right;\">\n",
       "      <th></th>\n",
       "      <th>Year</th>\n",
       "      <th>Avg Temperature (°C)</th>\n",
       "      <th>CO2 Emissions (Tons/Capita)</th>\n",
       "      <th>Sea Level Rise (mm)</th>\n",
       "      <th>Rainfall (mm)</th>\n",
       "      <th>Population</th>\n",
       "      <th>Renewable Energy (%)</th>\n",
       "      <th>Extreme Weather Events</th>\n",
       "      <th>Forest Area (%)</th>\n",
       "    </tr>\n",
       "  </thead>\n",
       "  <tbody>\n",
       "    <tr>\n",
       "      <th>count</th>\n",
       "      <td>1000.000000</td>\n",
       "      <td>1000.000000</td>\n",
       "      <td>1000.000000</td>\n",
       "      <td>1000.000000</td>\n",
       "      <td>1000.000000</td>\n",
       "      <td>1.000000e+03</td>\n",
       "      <td>1000.000000</td>\n",
       "      <td>1000.000000</td>\n",
       "      <td>1000.000000</td>\n",
       "    </tr>\n",
       "    <tr>\n",
       "      <th>mean</th>\n",
       "      <td>2011.432000</td>\n",
       "      <td>19.883100</td>\n",
       "      <td>10.425800</td>\n",
       "      <td>3.009600</td>\n",
       "      <td>1738.761000</td>\n",
       "      <td>7.053830e+08</td>\n",
       "      <td>27.300500</td>\n",
       "      <td>7.291000</td>\n",
       "      <td>40.572000</td>\n",
       "    </tr>\n",
       "    <tr>\n",
       "      <th>std</th>\n",
       "      <td>7.147199</td>\n",
       "      <td>8.542897</td>\n",
       "      <td>5.614665</td>\n",
       "      <td>1.146081</td>\n",
       "      <td>708.976616</td>\n",
       "      <td>4.093910e+08</td>\n",
       "      <td>12.970808</td>\n",
       "      <td>4.422655</td>\n",
       "      <td>17.398998</td>\n",
       "    </tr>\n",
       "    <tr>\n",
       "      <th>min</th>\n",
       "      <td>2000.000000</td>\n",
       "      <td>5.000000</td>\n",
       "      <td>0.500000</td>\n",
       "      <td>1.000000</td>\n",
       "      <td>501.000000</td>\n",
       "      <td>3.660891e+06</td>\n",
       "      <td>5.100000</td>\n",
       "      <td>0.000000</td>\n",
       "      <td>10.100000</td>\n",
       "    </tr>\n",
       "    <tr>\n",
       "      <th>25%</th>\n",
       "      <td>2005.000000</td>\n",
       "      <td>12.175000</td>\n",
       "      <td>5.575000</td>\n",
       "      <td>2.000000</td>\n",
       "      <td>1098.750000</td>\n",
       "      <td>3.436242e+08</td>\n",
       "      <td>16.100000</td>\n",
       "      <td>3.000000</td>\n",
       "      <td>25.600000</td>\n",
       "    </tr>\n",
       "    <tr>\n",
       "      <th>50%</th>\n",
       "      <td>2012.000000</td>\n",
       "      <td>20.100000</td>\n",
       "      <td>10.700000</td>\n",
       "      <td>3.000000</td>\n",
       "      <td>1726.000000</td>\n",
       "      <td>7.131166e+08</td>\n",
       "      <td>27.150000</td>\n",
       "      <td>8.000000</td>\n",
       "      <td>41.150000</td>\n",
       "    </tr>\n",
       "    <tr>\n",
       "      <th>75%</th>\n",
       "      <td>2018.000000</td>\n",
       "      <td>27.225000</td>\n",
       "      <td>15.400000</td>\n",
       "      <td>4.000000</td>\n",
       "      <td>2362.500000</td>\n",
       "      <td>1.073868e+09</td>\n",
       "      <td>38.925000</td>\n",
       "      <td>11.000000</td>\n",
       "      <td>55.800000</td>\n",
       "    </tr>\n",
       "    <tr>\n",
       "      <th>max</th>\n",
       "      <td>2023.000000</td>\n",
       "      <td>34.900000</td>\n",
       "      <td>20.000000</td>\n",
       "      <td>5.000000</td>\n",
       "      <td>2999.000000</td>\n",
       "      <td>1.397016e+09</td>\n",
       "      <td>50.000000</td>\n",
       "      <td>14.000000</td>\n",
       "      <td>70.000000</td>\n",
       "    </tr>\n",
       "  </tbody>\n",
       "</table>\n",
       "</div>"
      ],
      "text/plain": [
       "              Year  Avg Temperature (°C)  CO2 Emissions (Tons/Capita)  \\\n",
       "count  1000.000000           1000.000000                  1000.000000   \n",
       "mean   2011.432000             19.883100                    10.425800   \n",
       "std       7.147199              8.542897                     5.614665   \n",
       "min    2000.000000              5.000000                     0.500000   \n",
       "25%    2005.000000             12.175000                     5.575000   \n",
       "50%    2012.000000             20.100000                    10.700000   \n",
       "75%    2018.000000             27.225000                    15.400000   \n",
       "max    2023.000000             34.900000                    20.000000   \n",
       "\n",
       "       Sea Level Rise (mm)  Rainfall (mm)    Population  Renewable Energy (%)  \\\n",
       "count          1000.000000    1000.000000  1.000000e+03           1000.000000   \n",
       "mean              3.009600    1738.761000  7.053830e+08             27.300500   \n",
       "std               1.146081     708.976616  4.093910e+08             12.970808   \n",
       "min               1.000000     501.000000  3.660891e+06              5.100000   \n",
       "25%               2.000000    1098.750000  3.436242e+08             16.100000   \n",
       "50%               3.000000    1726.000000  7.131166e+08             27.150000   \n",
       "75%               4.000000    2362.500000  1.073868e+09             38.925000   \n",
       "max               5.000000    2999.000000  1.397016e+09             50.000000   \n",
       "\n",
       "       Extreme Weather Events  Forest Area (%)  \n",
       "count             1000.000000      1000.000000  \n",
       "mean                 7.291000        40.572000  \n",
       "std                  4.422655        17.398998  \n",
       "min                  0.000000        10.100000  \n",
       "25%                  3.000000        25.600000  \n",
       "50%                  8.000000        41.150000  \n",
       "75%                 11.000000        55.800000  \n",
       "max                 14.000000        70.000000  "
      ]
     },
     "execution_count": 11,
     "metadata": {},
     "output_type": "execute_result"
    }
   ],
   "source": [
    "climatechange.describe()"
   ]
  },
  {
   "cell_type": "code",
   "execution_count": 13,
   "id": "8cc2cb57",
   "metadata": {},
   "outputs": [
    {
     "data": {
      "text/plain": [
       "Year                           0\n",
       "Country                        0\n",
       "Avg Temperature (°C)           0\n",
       "CO2 Emissions (Tons/Capita)    0\n",
       "Sea Level Rise (mm)            0\n",
       "Rainfall (mm)                  0\n",
       "Population                     0\n",
       "Renewable Energy (%)           0\n",
       "Extreme Weather Events         0\n",
       "Forest Area (%)                0\n",
       "dtype: int64"
      ]
     },
     "execution_count": 13,
     "metadata": {},
     "output_type": "execute_result"
    }
   ],
   "source": [
    "climatechange.isna().sum()\n",
    "\n"
   ]
  },
  {
   "cell_type": "markdown",
   "id": "bd28dbd9",
   "metadata": {},
   "source": [
    "## GroupBy"
   ]
  },
  {
   "cell_type": "code",
   "execution_count": 1,
   "id": "b2c4b760",
   "metadata": {},
   "outputs": [
    {
     "ename": "NameError",
     "evalue": "name 'climatechange' is not defined",
     "output_type": "error",
     "traceback": [
      "\u001b[31m---------------------------------------------------------------------------\u001b[39m",
      "\u001b[31mNameError\u001b[39m                                 Traceback (most recent call last)",
      "\u001b[36mCell\u001b[39m\u001b[36m \u001b[39m\u001b[32mIn[1]\u001b[39m\u001b[32m, line 1\u001b[39m\n\u001b[32m----> \u001b[39m\u001b[32m1\u001b[39m \u001b[43mclimatechange\u001b[49m.groupby([\u001b[33m'\u001b[39m\u001b[33mYear\u001b[39m\u001b[33m'\u001b[39m,\u001b[33m'\u001b[39m\u001b[33mCountry\u001b[39m\u001b[33m'\u001b[39m])[\u001b[33m'\u001b[39m\u001b[33mAvg Temperature (°C)\u001b[39m\u001b[33m'\u001b[39m].mean().sort_values(ascending=\u001b[38;5;28;01mFalse\u001b[39;00m).head()\n",
      "\u001b[31mNameError\u001b[39m: name 'climatechange' is not defined"
     ]
    }
   ],
   "source": [
    "climatechange.groupby(['Year','Country'])['Avg Temperature (°C)'].mean().sort_values(ascending=False).head()\n"
   ]
  }
 ],
 "metadata": {
  "kernelspec": {
   "display_name": "Python 3",
   "language": "python",
   "name": "python3"
  },
  "language_info": {
   "codemirror_mode": {
    "name": "ipython",
    "version": 3
   },
   "file_extension": ".py",
   "mimetype": "text/x-python",
   "name": "python",
   "nbconvert_exporter": "python",
   "pygments_lexer": "ipython3",
   "version": "3.13.4"
  }
 },
 "nbformat": 4,
 "nbformat_minor": 5
}
